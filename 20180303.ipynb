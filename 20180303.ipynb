{
 "cells": [
  {
   "cell_type": "markdown",
   "metadata": {},
   "source": [
    "## 安裝pandas datareader"
   ]
  },
  {
   "cell_type": "code",
   "execution_count": 1,
   "metadata": {},
   "outputs": [
    {
     "name": "stdout",
     "output_type": "stream",
     "text": [
      "Collecting pandas_datareader\n",
      "  Downloading pandas_datareader-0.6.0-py2.py3-none-any.whl (103kB)\n",
      "Collecting requests-file (from pandas_datareader)\n",
      "  Downloading requests_file-1.4.3-py2.py3-none-any.whl\n",
      "Requirement already satisfied: requests>=2.3.0 in c:\\anaconda3\\lib\\site-packages (from pandas_datareader)\n",
      "Collecting requests-ftp (from pandas_datareader)\n",
      "  Downloading requests-ftp-0.3.1.tar.gz\n",
      "Requirement already satisfied: pandas>=0.19.2 in c:\\anaconda3\\lib\\site-packages (from pandas_datareader)\n",
      "Requirement already satisfied: lxml in c:\\anaconda3\\lib\\site-packages (from pandas_datareader)\n",
      "Requirement already satisfied: wrapt in c:\\anaconda3\\lib\\site-packages (from pandas_datareader)\n",
      "Requirement already satisfied: six in c:\\anaconda3\\lib\\site-packages (from requests-file->pandas_datareader)\n",
      "Requirement already satisfied: chardet<3.1.0,>=3.0.2 in c:\\anaconda3\\lib\\site-packages (from requests>=2.3.0->pandas_datareader)\n",
      "Requirement already satisfied: idna<2.7,>=2.5 in c:\\anaconda3\\lib\\site-packages (from requests>=2.3.0->pandas_datareader)\n",
      "Requirement already satisfied: urllib3<1.23,>=1.21.1 in c:\\anaconda3\\lib\\site-packages (from requests>=2.3.0->pandas_datareader)\n",
      "Requirement already satisfied: certifi>=2017.4.17 in c:\\anaconda3\\lib\\site-packages (from requests>=2.3.0->pandas_datareader)\n",
      "Requirement already satisfied: python-dateutil>=2 in c:\\anaconda3\\lib\\site-packages (from pandas>=0.19.2->pandas_datareader)\n",
      "Requirement already satisfied: pytz>=2011k in c:\\anaconda3\\lib\\site-packages (from pandas>=0.19.2->pandas_datareader)\n",
      "Requirement already satisfied: numpy>=1.7.0 in c:\\anaconda3\\lib\\site-packages (from pandas>=0.19.2->pandas_datareader)\n",
      "Building wheels for collected packages: requests-ftp\n",
      "  Running setup.py bdist_wheel for requests-ftp: started\n",
      "  Running setup.py bdist_wheel for requests-ftp: finished with status 'done'\n",
      "  Stored in directory: C:\\Users\\Chen Yu Tso\\AppData\\Local\\pip\\Cache\\wheels\\76\\fb\\0d\\1026eb562c34a4982dc9d39c9c582a734eefe7f0455f711deb\n",
      "Successfully built requests-ftp\n",
      "Installing collected packages: requests-file, requests-ftp, pandas-datareader\n",
      "Successfully installed pandas-datareader-0.6.0 requests-file-1.4.3 requests-ftp-0.3.1\n"
     ]
    }
   ],
   "source": [
    "!pip install pandas_datareader"
   ]
  },
  {
   "cell_type": "code",
   "execution_count": 4,
   "metadata": {},
   "outputs": [
    {
     "name": "stderr",
     "output_type": "stream",
     "text": [
      "C:\\Anaconda3\\lib\\site-packages\\pandas_datareader\\google\\daily.py:40: UnstableAPIWarning: \n",
      "The Google Finance API has not been stable since late 2017. Requests seem\n",
      "to fail at random. Failure is especially common when bulk downloading.\n",
      "\n",
      "  warnings.warn(UNSTABLE_WARNING, UnstableAPIWarning)\n"
     ]
    }
   ],
   "source": [
    "import pandas_datareader\n",
    "\n",
    "apple = pandas_datareader.get_data_google('AAPL')"
   ]
  },
  {
   "cell_type": "code",
   "execution_count": 6,
   "metadata": {},
   "outputs": [
    {
     "data": {
      "text/html": [
       "<div>\n",
       "<style>\n",
       "    .dataframe thead tr:only-child th {\n",
       "        text-align: right;\n",
       "    }\n",
       "\n",
       "    .dataframe thead th {\n",
       "        text-align: left;\n",
       "    }\n",
       "\n",
       "    .dataframe tbody tr th {\n",
       "        vertical-align: top;\n",
       "    }\n",
       "</style>\n",
       "<table border=\"1\" class=\"dataframe\">\n",
       "  <thead>\n",
       "    <tr style=\"text-align: right;\">\n",
       "      <th></th>\n",
       "      <th>Open</th>\n",
       "      <th>High</th>\n",
       "      <th>Low</th>\n",
       "      <th>Close</th>\n",
       "      <th>Volume</th>\n",
       "    </tr>\n",
       "    <tr>\n",
       "      <th>Date</th>\n",
       "      <th></th>\n",
       "      <th></th>\n",
       "      <th></th>\n",
       "      <th></th>\n",
       "      <th></th>\n",
       "    </tr>\n",
       "  </thead>\n",
       "  <tbody>\n",
       "    <tr>\n",
       "      <th>2010-01-04</th>\n",
       "      <td>30.49</td>\n",
       "      <td>30.64</td>\n",
       "      <td>30.34</td>\n",
       "      <td>30.57</td>\n",
       "      <td>123432050</td>\n",
       "    </tr>\n",
       "    <tr>\n",
       "      <th>2010-01-05</th>\n",
       "      <td>30.66</td>\n",
       "      <td>30.80</td>\n",
       "      <td>30.46</td>\n",
       "      <td>30.63</td>\n",
       "      <td>150476004</td>\n",
       "    </tr>\n",
       "    <tr>\n",
       "      <th>2010-01-06</th>\n",
       "      <td>30.63</td>\n",
       "      <td>30.75</td>\n",
       "      <td>30.11</td>\n",
       "      <td>30.14</td>\n",
       "      <td>138039594</td>\n",
       "    </tr>\n",
       "    <tr>\n",
       "      <th>2010-01-07</th>\n",
       "      <td>30.25</td>\n",
       "      <td>30.29</td>\n",
       "      <td>29.86</td>\n",
       "      <td>30.08</td>\n",
       "      <td>119282324</td>\n",
       "    </tr>\n",
       "    <tr>\n",
       "      <th>2010-01-08</th>\n",
       "      <td>30.04</td>\n",
       "      <td>30.29</td>\n",
       "      <td>29.87</td>\n",
       "      <td>30.28</td>\n",
       "      <td>111969081</td>\n",
       "    </tr>\n",
       "  </tbody>\n",
       "</table>\n",
       "</div>"
      ],
      "text/plain": [
       "             Open   High    Low  Close     Volume\n",
       "Date                                             \n",
       "2010-01-04  30.49  30.64  30.34  30.57  123432050\n",
       "2010-01-05  30.66  30.80  30.46  30.63  150476004\n",
       "2010-01-06  30.63  30.75  30.11  30.14  138039594\n",
       "2010-01-07  30.25  30.29  29.86  30.08  119282324\n",
       "2010-01-08  30.04  30.29  29.87  30.28  111969081"
      ]
     },
     "execution_count": 6,
     "metadata": {},
     "output_type": "execute_result"
    }
   ],
   "source": [
    "apple.head()"
   ]
  },
  {
   "cell_type": "code",
   "execution_count": 8,
   "metadata": {
    "collapsed": true
   },
   "outputs": [],
   "source": [
    "import pandas"
   ]
  },
  {
   "cell_type": "code",
   "execution_count": 9,
   "metadata": {},
   "outputs": [
    {
     "name": "stdout",
     "output_type": "stream",
     "text": [
      "[40, 42, 50, 55, 58, 60, 72, 80, 82, 87, 98]\n"
     ]
    },
    {
     "data": {
      "text/plain": [
       "60.0"
      ]
     },
     "execution_count": 9,
     "metadata": {},
     "output_type": "execute_result"
    }
   ],
   "source": [
    "a = [40,42,50,60,55,72,58,80,82,87,98]\n",
    "\n",
    "print(a)\n",
    "\n",
    "a.sort(a)\n",
    "\n",
    "print(a)\n",
    "pandas.Series(a).median()\n"
   ]
  },
  {
   "cell_type": "code",
   "execution_count": 13,
   "metadata": {},
   "outputs": [
    {
     "data": {
      "text/plain": [
       "<bound method NDFrame.describe of 0     40\n",
       "1     42\n",
       "2     50\n",
       "3     55\n",
       "4     58\n",
       "5     60\n",
       "6     72\n",
       "7     80\n",
       "8     82\n",
       "9     87\n",
       "10    98\n",
       "dtype: int64>"
      ]
     },
     "execution_count": 13,
     "metadata": {},
     "output_type": "execute_result"
    }
   ],
   "source": [
    "pandas.Series(a).describe"
   ]
  }
 ],
 "metadata": {
  "kernelspec": {
   "display_name": "Python 3",
   "language": "python",
   "name": "python3"
  },
  "language_info": {
   "codemirror_mode": {
    "name": "ipython",
    "version": 3
   },
   "file_extension": ".py",
   "mimetype": "text/x-python",
   "name": "python",
   "nbconvert_exporter": "python",
   "pygments_lexer": "ipython3",
   "version": "3.6.2"
  }
 },
 "nbformat": 4,
 "nbformat_minor": 2
}
