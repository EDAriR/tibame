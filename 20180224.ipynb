{
 "cells": [
  {
   "cell_type": "markdown",
   "metadata": {},
   "source": [
    "## 正則"
   ]
  },
  {
   "cell_type": "code",
   "execution_count": 1,
   "metadata": {},
   "outputs": [
    {
     "data": {
      "text/plain": [
       "True"
      ]
     },
     "execution_count": 1,
     "metadata": {},
     "output_type": "execute_result"
    }
   ],
   "source": [
    "phone = '0912345678'\n",
    "\n",
    "phone =='0912345678'"
   ]
  },
  {
   "cell_type": "code",
   "execution_count": 3,
   "metadata": {},
   "outputs": [
    {
     "data": {
      "text/plain": [
       "True"
      ]
     },
     "execution_count": 3,
     "metadata": {},
     "output_type": "execute_result"
    }
   ],
   "source": [
    "n = '3'\n",
    "n == '3'"
   ]
  },
  {
   "cell_type": "code",
   "execution_count": 4,
   "metadata": {
    "collapsed": true
   },
   "outputs": [],
   "source": [
    "import re\n",
    "# re.match : 需要字串百分之百跟規則相符\n",
    "# re.search : 需要字串 '部分內容 '百分之百跟規則相符"
   ]
  },
  {
   "cell_type": "code",
   "execution_count": 9,
   "metadata": {},
   "outputs": [
    {
     "data": {
      "text/plain": [
       "<_sre.SRE_Match object; span=(0, 1), match='3'>"
      ]
     },
     "execution_count": 9,
     "metadata": {},
     "output_type": "execute_result"
    }
   ],
   "source": [
    "n = '3'\n",
    "\n",
    "import re\n",
    "\n",
    "re.match('3',n)"
   ]
  },
  {
   "cell_type": "markdown",
   "metadata": {},
   "source": [
    "##  數字比對"
   ]
  },
  {
   "cell_type": "code",
   "execution_count": 8,
   "metadata": {},
   "outputs": [
    {
     "data": {
      "text/plain": [
       "(<_sre.SRE_Match object; span=(0, 1), match='3'>,\n",
       " <_sre.SRE_Match object; span=(0, 1), match='3'>,\n",
       " <_sre.SRE_Match object; span=(0, 1), match='3'>)"
      ]
     },
     "execution_count": 8,
     "metadata": {},
     "output_type": "execute_result"
    }
   ],
   "source": [
    "a = re.match('[0123456789]', n)\n",
    "\n",
    "b = re.match('[0-9]', n)\n",
    "\n",
    "c = re.match('\\d', n)\n",
    "\n",
    "a, b, c"
   ]
  },
  {
   "cell_type": "markdown",
   "metadata": {},
   "source": [
    "##  比對文字"
   ]
  },
  {
   "cell_type": "code",
   "execution_count": 15,
   "metadata": {},
   "outputs": [
    {
     "data": {
      "text/plain": [
       "(None, None, <_sre.SRE_Match object; span=(0, 1), match='A'>)"
      ]
     },
     "execution_count": 15,
     "metadata": {},
     "output_type": "execute_result"
    }
   ],
   "source": [
    "# s = 'w'\n",
    "s = 'A'\n",
    "\n",
    "a = re.match('[abcdefghijlmnopqrstuvwxyz]', s)\n",
    "\n",
    "b = re.match('[a-z]', s)\n",
    "\n",
    "c = re.match('[a-zA-Z]', s) # 比較大小寫英文\n",
    "\n",
    "d = re.match('[a-zA-Z0-9]',s)\n",
    "\n",
    "e = re.match('\\w', s)  # 比 任意 英文字元 或是 數字\n",
    "\n",
    "a, b, c, d, e"
   ]
  },
  {
   "cell_type": "markdown",
   "metadata": {},
   "source": [
    "## 比對多個字元"
   ]
  },
  {
   "cell_type": "code",
   "execution_count": 17,
   "metadata": {},
   "outputs": [
    {
     "data": {
      "text/plain": [
       "<_sre.SRE_Match object; span=(0, 5), match='iphon'>"
      ]
     },
     "execution_count": 17,
     "metadata": {},
     "output_type": "execute_result"
    }
   ],
   "source": [
    "s = 'iphone'\n",
    "\n",
    "a = re.match('\\w\\w\\w\\w\\w', s)\n",
    "\n",
    "b = re.match('\\w{6}', s)\n",
    "\n",
    "s = 'Iphone3GS'\n",
    "c = re. match('\\w{6, 9}', s) #{m ,n} 比較至少 m 至多 n 個字元\n",
    "\n",
    "#{m ,} 比較至少 m 至多 未知個字元\n",
    "s = 'Iphonexxx3GS'\n",
    "d = re.match('\\w{6, }', s)\n",
    "\n",
    "#{ ,n} 比較至少 未知數輛 至多 n 個字元\n",
    "e = re.match('\\w{, 9}', s)\n",
    "\n",
    "#比對 0個以上的字元\n",
    "s = ''\n",
    "f = re.match('\\w{0, }', s)\n",
    "\n",
    "g = re.match('\\w*', s)\n",
    "\n",
    "#比對 1個以上的字元\n",
    "h = re.match('\\w+', s)\n",
    "\n",
    "a, b, c, d, e, f, g"
   ]
  },
  {
   "cell_type": "markdown",
   "metadata": {},
   "source": [
    "### 比對手機號碼"
   ]
  },
  {
   "cell_type": "code",
   "execution_count": 19,
   "metadata": {},
   "outputs": [
    {
     "name": "stdout",
     "output_type": "stream",
     "text": [
      "0 0912345678\n",
      "1 029384234\n",
      "2 0912-345-678\n",
      "3 0912-234553\n",
      "4  09287346192\n"
     ]
    }
   ],
   "source": [
    "phones = ['0912345678', '029384234', '0912-345-678', '0912-234553', ' 09287346192']\n",
    "\n",
    "for idx, p in enumerate(phones):\n",
    "    print(idx, p)"
   ]
  },
  {
   "cell_type": "code",
   "execution_count": null,
   "metadata": {
    "collapsed": true
   },
   "outputs": [],
   "source": [
    "for idx, p in enumerate(phones):\n",
    "    print(idx, re.match())"
   ]
  },
  {
   "cell_type": "code",
   "execution_count": null,
   "metadata": {
    "collapsed": true
   },
   "outputs": [],
   "source": []
  }
 ],
 "metadata": {
  "kernelspec": {
   "display_name": "Python 3",
   "language": "python",
   "name": "python3"
  },
  "language_info": {
   "codemirror_mode": {
    "name": "ipython",
    "version": 3
   },
   "file_extension": ".py",
   "mimetype": "text/x-python",
   "name": "python",
   "nbconvert_exporter": "python",
   "pygments_lexer": "ipython3",
   "version": "3.6.2"
  }
 },
 "nbformat": 4,
 "nbformat_minor": 2
}
